{
 "cells": [
  {
   "cell_type": "markdown",
   "id": "4df20df2",
   "metadata": {},
   "source": [
    "# 0133罗毅夫第一章课后练习"
   ]
  },
  {
   "cell_type": "markdown",
   "id": "4b069380",
   "metadata": {},
   "source": [
    "## 1、编写python代码，输出“你好，罗毅夫”"
   ]
  },
  {
   "cell_type": "code",
   "execution_count": 3,
   "id": "bd5861bc",
   "metadata": {
    "pycharm": {
     "name": "#%%\n"
    }
   },
   "outputs": [
    {
     "name": "stdout",
     "output_type": "stream",
     "text": [
      "Hello EaveLuo!\n"
     ]
    }
   ],
   "source": [
    "print('Hello EaveLuo!')"
   ]
  },
  {
   "cell_type": "markdown",
   "id": "294ad461",
   "metadata": {},
   "source": [
    "## 2、输入小写单词‘eave’，输出‘Eave’"
   ]
  },
  {
   "cell_type": "code",
   "execution_count": null,
   "id": "6928b380",
   "metadata": {},
   "outputs": [
    {
     "name": "stdout",
     "output_type": "stream",
     "text": [
      "Eave\n"
     ]
    }
   ],
   "source": [
    "s = 'eave'\n",
    "print(s.capitalize())"
   ]
  },
  {
   "cell_type": "markdown",
   "id": "a4ca425d",
   "metadata": {},
   "source": [
    "## 3、jupyter的使用，如上所示"
   ]
  },
  {
   "cell_type": "markdown",
   "id": "f9dd47ea",
   "metadata": {},
   "source": []
  }
 ],
 "metadata": {
  "celltoolbar": "无",
  "kernelspec": {
   "display_name": "Python 3 (ipykernel)",
   "language": "python",
   "name": "python3"
  },
  "language_info": {
   "codemirror_mode": {
    "name": "ipython",
    "version": 3
   },
   "file_extension": ".py",
   "mimetype": "text/x-python",
   "name": "python",
   "nbconvert_exporter": "python",
   "pygments_lexer": "ipython3",
   "version": "3.10.1"
  }
 },
 "nbformat": 4,
 "nbformat_minor": 5
}
