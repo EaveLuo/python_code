{
 "cells": [
  {
   "cell_type": "markdown",
   "id": "f11da90d",
   "metadata": {},
   "source": [
    "# 0133罗毅夫第二章课后练习"
   ]
  },
  {
   "cell_type": "markdown",
   "id": "96a35a0d",
   "metadata": {},
   "source": [
    "## 1、实现将整数四舍五入到千位，如输入23500，输出24000"
   ]
  },
  {
   "cell_type": "code",
   "execution_count": 16,
   "id": "a6902b6a",
   "metadata": {
    "scrolled": true
   },
   "outputs": [
    {
     "name": "stdout",
     "output_type": "stream",
     "text": [
      "please enter a number:23500\n"
     ]
    },
    {
     "data": {
      "text/plain": [
       "24000"
      ]
     },
     "execution_count": 16,
     "metadata": {},
     "output_type": "execute_result"
    }
   ],
   "source": [
    "a = eval(input('please enter a number:'))\n",
    "a/=1000\n",
    "round(a)*1000"
   ]
  },
  {
   "cell_type": "markdown",
   "id": "ca664742",
   "metadata": {},
   "source": [
    "## 2、编写代码，允许用户输入任意两个整数相乘的内容，如2x3，并最终能输出相乘的结果，如2x3=6"
   ]
  },
  {
   "cell_type": "code",
   "execution_count": 44,
   "id": "68ed31b6",
   "metadata": {},
   "outputs": [
    {
     "name": "stdout",
     "output_type": "stream",
     "text": [
      "请输入一个乘法表达式：6x5\n",
      "6x5=30\n"
     ]
    }
   ],
   "source": [
    "s = input('请输入一个乘法表达式：')\n",
    "a = int(s[0:s.index('x')])\n",
    "b = int(s[s.index('x')+1:len(s)])\n",
    "print(str(a)+'x'+str(b)+'='+str(a*b))"
   ]
  },
  {
   "cell_type": "markdown",
   "id": "14315046",
   "metadata": {},
   "source": [
    "## 3、拼接字符串"
   ]
  },
  {
   "cell_type": "code",
   "execution_count": 3,
   "id": "c78e2416",
   "metadata": {},
   "outputs": [
    {
     "name": "stdout",
     "output_type": "stream",
     "text": [
      "长沙是湖南省会\n"
     ]
    }
   ],
   "source": [
    "str1 = '长沙'\n",
    "str2 = '湖南'\n",
    "print(str1+'是'+str2+'省会')"
   ]
  },
  {
   "cell_type": "markdown",
   "id": "04a6cb10",
   "metadata": {},
   "source": [
    "## 4、自己实现ceil函数"
   ]
  },
  {
   "cell_type": "code",
   "execution_count": 36,
   "id": "04f50906",
   "metadata": {},
   "outputs": [
    {
     "name": "stdout",
     "output_type": "stream",
     "text": [
      "请输入一个数：-16.5959\n",
      "4.040999999999997\n",
      "-16\n"
     ]
    }
   ],
   "source": [
    "num = eval(input(\"请输入一个数：\"))\n",
    "if num*10%10>0 and num>0:\n",
    "    print(int(num + 1))\n",
    "else :\n",
    "    print(int(num))"
   ]
  },
  {
   "cell_type": "code",
   "execution_count": null,
   "id": "40d240ad",
   "metadata": {},
   "outputs": [],
   "source": []
  }
 ],
 "metadata": {
  "kernelspec": {
   "display_name": "Python 3 (ipykernel)",
   "language": "python",
   "name": "python3"
  },
  "language_info": {
   "codemirror_mode": {
    "name": "ipython",
    "version": 3
   },
   "file_extension": ".py",
   "mimetype": "text/x-python",
   "name": "python",
   "nbconvert_exporter": "python",
   "pygments_lexer": "ipython3",
   "version": "3.9.7"
  }
 },
 "nbformat": 4,
 "nbformat_minor": 5
}
