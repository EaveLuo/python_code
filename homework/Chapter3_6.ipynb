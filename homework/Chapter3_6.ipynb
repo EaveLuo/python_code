{
 "cells": [
  {
   "cell_type": "markdown",
   "metadata": {},
   "source": [
    "# 0133罗毅夫3-6章课后作业"
   ]
  },
  {
   "cell_type": "markdown",
   "metadata": {},
   "source": [
    "## 1、编写一个随机九宫格，可以显示1到8的数字，位置随机，构成一个3*3的矩阵结构，最后一个留空。"
   ]
  },
  {
   "cell_type": "code",
   "execution_count": 26,
   "metadata": {},
   "outputs": [
    {
     "name": "stdout",
     "output_type": "stream",
     "text": [
      "4 8 3 \n",
      "3 4 4 \n",
      "6 6 \n"
     ]
    }
   ],
   "source": [
    "import random\n",
    "for i in range(0,3):\n",
    "    for j in range(0,3):\n",
    "        if(i == 2 and j == 2):\n",
    "            break\n",
    "        print(random.randint(1,8),end=' ')\n",
    "    print()"
   ]
  },
  {
   "cell_type": "markdown",
   "metadata": {},
   "source": [
    "## 2、编写代码，允许用户输入一个字典中存在的键，如果输入不正确，反复让用户输入，直到用户输入成功即结束。"
   ]
  },
  {
   "cell_type": "code",
   "execution_count": 40,
   "metadata": {},
   "outputs": [
    {
     "name": "stdout",
     "output_type": "stream",
     "text": [
      "字典中不存在此键,请重新输入:\n",
      "匹配成功!键的值为: 202108210133\n"
     ]
    }
   ],
   "source": [
    "dict1 = {\n",
    "    'id': '202108210133',\n",
    "    'name': 'EaveLuo',\n",
    "    'age': 23,\n",
    "    'height': 1.76,\n",
    "    'grade': [90,80,78,91,92]\n",
    "}\n",
    "\n",
    "while True:\n",
    "    dicKey = input(\"请输入字典中存在的键:\")\n",
    "    if(dict1.get(dicKey) == None):\n",
    "        print('字典中不存在此键,请重新输入:')\n",
    "    else:\n",
    "        break\n",
    "print(\"匹配成功!键的值为:\",dict1.get(dicKey))\n"
   ]
  },
  {
   "cell_type": "markdown",
   "metadata": {},
   "source": [
    "## 3、统计字符串中所有字符出现的次数"
   ]
  },
  {
   "cell_type": "code",
   "execution_count": 43,
   "metadata": {},
   "outputs": [
    {
     "name": "stdout",
     "output_type": "stream",
     "text": [
      "{'H': 1, 'U': 1, 'F': 1, 'E': 1, ' ': 3, 'I': 1, 'l': 1, 'o': 2, 'v': 1, 'e': 1, 'y': 1, 'u': 1}\n"
     ]
    }
   ],
   "source": [
    "def count_each_char(str):\n",
    "    dict = {}\n",
    "    for i in str:\n",
    "        if i not in dict:\n",
    "            dict[i] = 1\n",
    "        else:\n",
    "            dict[i] += 1\n",
    "    return dict\n",
    " \n",
    "if __name__ == \"__main__\":\n",
    "    res = count_each_char(\"HUFE I love you\")\n",
    "    print(res)"
   ]
  },
  {
   "cell_type": "markdown",
   "metadata": {},
   "source": [
    "## 4、有字符串“hunan”，请实现倒序输出。"
   ]
  },
  {
   "cell_type": "code",
   "execution_count": 47,
   "metadata": {},
   "outputs": [
    {
     "data": {
      "text/plain": [
       "'nanuh'"
      ]
     },
     "execution_count": 47,
     "metadata": {},
     "output_type": "execute_result"
    }
   ],
   "source": [
    "strs = 'hunan'\n",
    "strs[::-1]    "
   ]
  }
 ],
 "metadata": {
  "interpreter": {
   "hash": "916dbcbb3f70747c44a77c7bcd40155683ae19c65e1c03b4aa3499c5328201f1"
  },
  "kernelspec": {
   "display_name": "Python 3.6.8 64-bit",
   "language": "python",
   "name": "python3"
  },
  "language_info": {
   "codemirror_mode": {
    "name": "ipython",
    "version": 3
   },
   "file_extension": ".py",
   "mimetype": "text/x-python",
   "name": "python",
   "nbconvert_exporter": "python",
   "pygments_lexer": "ipython3",
   "version": "3.6.8"
  },
  "orig_nbformat": 4
 },
 "nbformat": 4,
 "nbformat_minor": 2
}
