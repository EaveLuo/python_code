{
 "cells": [
  {
   "cell_type": "markdown",
   "metadata": {},
   "source": [
    "# 202108210133罗毅夫"
   ]
  },
  {
   "cell_type": "markdown",
   "metadata": {},
   "source": [
    "# 函数"
   ]
  },
  {
   "cell_type": "code",
   "execution_count": 2,
   "metadata": {},
   "outputs": [
    {
     "name": "stdout",
     "output_type": "stream",
     "text": [
      "120\n",
      "120\n"
     ]
    }
   ],
   "source": [
    "def fact(n):\n",
    "    res = 1\n",
    "    for i in range(1,n+1):\n",
    "        res*=i\n",
    "    return res\n",
    "\n",
    "print(fact(5))\n",
    "\n",
    "def fact2(n):\n",
    "    if n == 1 :\n",
    "        return n\n",
    "    return n*fact2(n-1)\n",
    "    \n",
    "print(fact2(5)) "
   ]
  },
  {
   "cell_type": "code",
   "execution_count": 3,
   "metadata": {},
   "outputs": [
    {
     "name": "stdout",
     "output_type": "stream",
     "text": [
      "0\n",
      "4\n",
      "4\n"
     ]
    }
   ],
   "source": [
    "def fact3(n,m=1):\n",
    "    res = 1\n",
    "    for i in range(1,n+1):\n",
    "        res*=i\n",
    "    return res%m\n",
    "    \n",
    "print(fact3(4))\n",
    "print(fact3(4,5)) \n",
    "print(fact3(m=5,n=4)) "
   ]
  },
  {
   "cell_type": "code",
   "execution_count": 27,
   "metadata": {},
   "outputs": [
    {
     "name": "stdout",
     "output_type": "stream",
     "text": [
      "(170, 20, 30)\n"
     ]
    }
   ],
   "source": [
    "def fact4(n,*m):\n",
    "    res = 1\n",
    "    for i in range(1,n+1):\n",
    "        res*=i\n",
    "\n",
    "    for i in m:\n",
    "        res += i\n",
    "\n",
    "    return (res,*m)\n",
    "    \n",
    "print(fact4(5,20,30))"
   ]
  },
  {
   "cell_type": "code",
   "execution_count": 28,
   "metadata": {},
   "outputs": [
    {
     "data": {
      "text/plain": [
       "6"
      ]
     },
     "execution_count": 28,
     "metadata": {},
     "output_type": "execute_result"
    }
   ],
   "source": [
    "xyz = lambda x,y: x*y\n",
    "xyz(2,3)"
   ]
  },
  {
   "cell_type": "code",
   "execution_count": 32,
   "metadata": {},
   "outputs": [
    {
     "name": "stdout",
     "output_type": "stream",
     "text": [
      "3\n",
      "3\n"
     ]
    }
   ],
   "source": [
    "a = 0\n",
    "def sum(x,y):\n",
    "    global a\n",
    "    a = x+y\n",
    "    print(a)\n",
    "    return a\n",
    "sum(1,2)\n",
    "print(a)"
   ]
  },
  {
   "cell_type": "code",
   "execution_count": 40,
   "metadata": {},
   "outputs": [
    {
     "data": {
      "text/plain": [
       "(5.5, 6, 7, 8, 9, 10)"
      ]
     },
     "execution_count": 40,
     "metadata": {},
     "output_type": "execute_result"
    }
   ],
   "source": [
    "def numbers(*n):\n",
    "    avg = 0\n",
    "    sum1 = 0\n",
    "    for i in n:\n",
    "        sum1 += i\n",
    "    avg = sum1/len(n)\n",
    "    list1 = []\n",
    "    for i in n:\n",
    "        if i>avg:\n",
    "            list1.append(i)\n",
    "    res = (avg,*list1) \n",
    "    return res\n",
    "numbers(1,2,3,4,5,6,7,8,9,10)\n",
    "            "
   ]
  },
  {
   "cell_type": "markdown",
   "metadata": {},
   "source": [
    "# 文件操作"
   ]
  },
  {
   "cell_type": "code",
   "execution_count": 44,
   "metadata": {},
   "outputs": [
    {
     "name": "stdout",
     "output_type": "stream",
     "text": [
      "Hello EaveLuo\n",
      "\n"
     ]
    }
   ],
   "source": [
    "tf = open('./file/document.txt','rt')\n",
    "print(tf.readline())\n",
    "tf.close()"
   ]
  },
  {
   "cell_type": "code",
   "execution_count": 47,
   "metadata": {},
   "outputs": [
    {
     "name": "stdout",
     "output_type": "stream",
     "text": [
      "Hello EaveLuo\n",
      "Strugle for your life\n",
      "Rush B!\n"
     ]
    }
   ],
   "source": [
    "tf = open('./file/document.txt','rt')\n",
    "print(tf.read())\n",
    "tf.close()"
   ]
  },
  {
   "cell_type": "code",
   "execution_count": 59,
   "metadata": {},
   "outputs": [
    {
     "name": "stdout",
     "output_type": "stream",
     "text": [
      "Hello EaveLuo\n"
     ]
    }
   ],
   "source": [
    "tf = open('./file/document.txt','rt')\n",
    "print(tf.read(13))\n",
    "tf.close()"
   ]
  },
  {
   "cell_type": "code",
   "execution_count": 61,
   "metadata": {},
   "outputs": [
    {
     "name": "stdout",
     "output_type": "stream",
     "text": [
      "3\n"
     ]
    }
   ],
   "source": [
    "tf = open('./file/document.txt','wt')\n",
    "print(tf.write('123'))\n",
    "tf.close()"
   ]
  },
  {
   "cell_type": "code",
   "execution_count": 66,
   "metadata": {},
   "outputs": [
    {
     "name": "stdout",
     "output_type": "stream",
     "text": [
      "1\n",
      "1pythonjavacc++javascriptsql\n"
     ]
    }
   ],
   "source": [
    "fo = open('./file/document.txt','r+')\n",
    "print(fo.read())\n",
    "ls = ['python','java','c','c++','javascript','sql']\n",
    "fo.writelines(ls)\n",
    "fo.seek(0)\n",
    "for line in fo:\n",
    "    print(line)\n",
    "fo.close()"
   ]
  },
  {
   "cell_type": "code",
   "execution_count": null,
   "metadata": {},
   "outputs": [],
   "source": []
  }
 ],
 "metadata": {
  "interpreter": {
   "hash": "916dbcbb3f70747c44a77c7bcd40155683ae19c65e1c03b4aa3499c5328201f1"
  },
  "kernelspec": {
   "display_name": "Python 3.6.8 64-bit",
   "language": "python",
   "name": "python3"
  },
  "language_info": {
   "codemirror_mode": {
    "name": "ipython",
    "version": 3
   },
   "file_extension": ".py",
   "mimetype": "text/x-python",
   "name": "python",
   "nbconvert_exporter": "python",
   "pygments_lexer": "ipython3",
   "version": "3.6.8"
  },
  "orig_nbformat": 4
 },
 "nbformat": 4,
 "nbformat_minor": 2
}
