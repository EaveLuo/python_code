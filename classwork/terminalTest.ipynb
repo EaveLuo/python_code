{
 "cells": [
  {
   "cell_type": "markdown",
   "metadata": {},
   "source": [
    "# 202108210133罗毅夫"
   ]
  },
  {
   "cell_type": "markdown",
   "metadata": {},
   "source": [
    "1、"
   ]
  },
  {
   "cell_type": "code",
   "execution_count": 2,
   "metadata": {},
   "outputs": [
    {
     "name": "stdout",
     "output_type": "stream",
     "text": [
      "321\n"
     ]
    }
   ],
   "source": [
    "print(input(\"please enter a number:\")[::-1])"
   ]
  },
  {
   "cell_type": "markdown",
   "metadata": {},
   "source": [
    "2、"
   ]
  },
  {
   "cell_type": "code",
   "execution_count": 14,
   "metadata": {},
   "outputs": [
    {
     "name": "stdout",
     "output_type": "stream",
     "text": [
      "955035\n"
     ]
    }
   ],
   "source": [
    "import random\n",
    "number = []\n",
    "for i in range(0,100):\n",
    "    num = random.randint(0,999999)\n",
    "    number.append(num)\n",
    "print(max(number))"
   ]
  },
  {
   "cell_type": "markdown",
   "metadata": {},
   "source": [
    "3、"
   ]
  },
  {
   "cell_type": "code",
   "execution_count": 57,
   "metadata": {},
   "outputs": [
    {
     "name": "stdout",
     "output_type": "stream",
     "text": [
      "[83, 66, 66, 61, 40]\n"
     ]
    }
   ],
   "source": [
    "import random\n",
    "english = [random.randint(40,100) for x in range(5)]\n",
    "english.sort(reverse = True)\n",
    "print(english)"
   ]
  },
  {
   "cell_type": "markdown",
   "metadata": {},
   "source": [
    "4、"
   ]
  },
  {
   "cell_type": "code",
   "execution_count": 68,
   "metadata": {},
   "outputs": [
    {
     "name": "stdout",
     "output_type": "stream",
     "text": [
      "your input is invalid!\n"
     ]
    }
   ],
   "source": [
    "age = int(input(\"please enter a valid age:\"))\n",
    "if 0 < age and age < 18:\n",
    "    print(\"you are under age!\")\n",
    "elif 18 <= age and age < 200:\n",
    "    print(\"you are adult!\")\n",
    "else:\n",
    "    print(\"your input is invalid!\")"
   ]
  },
  {
   "cell_type": "markdown",
   "metadata": {},
   "source": [
    "5、"
   ]
  },
  {
   "cell_type": "code",
   "execution_count": 75,
   "metadata": {},
   "outputs": [
    {
     "name": "stdout",
     "output_type": "stream",
     "text": [
      "辣条.........9.9\n",
      "快乐肥宅水.........99\n",
      "盲盒.........199\n",
      "毛拖.........299\n",
      "盲盒 199\n",
      "毛拖 299\n"
     ]
    }
   ],
   "source": [
    "myDict = {\n",
    "    \"辣条\": 9.9,\n",
    "    \"快乐肥宅水\": 99,\n",
    "    \"盲盒\": 199,\n",
    "    \"毛拖\": 299\n",
    "}\n",
    "for x in myDict.keys():\n",
    "    print(x+\".........\"+str(myDict[x]))\n",
    "for x in myDict.keys():\n",
    "    if myDict[x] > 100:\n",
    "        print(x,myDict[x])\n",
    "    "
   ]
  },
  {
   "cell_type": "code",
   "execution_count": null,
   "metadata": {},
   "outputs": [],
   "source": []
  }
 ],
 "metadata": {
  "interpreter": {
   "hash": "916dbcbb3f70747c44a77c7bcd40155683ae19c65e1c03b4aa3499c5328201f1"
  },
  "kernelspec": {
   "display_name": "Python 3.6.8 64-bit",
   "language": "python",
   "name": "python3"
  },
  "language_info": {
   "codemirror_mode": {
    "name": "ipython",
    "version": 3
   },
   "file_extension": ".py",
   "mimetype": "text/x-python",
   "name": "python",
   "nbconvert_exporter": "python",
   "pygments_lexer": "ipython3",
   "version": "3.6.8"
  },
  "orig_nbformat": 4
 },
 "nbformat": 4,
 "nbformat_minor": 2
}
