{
 "cells": [
  {
   "cell_type": "markdown",
   "metadata": {},
   "source": [
    "# 202108210133罗毅夫"
   ]
  },
  {
   "cell_type": "markdown",
   "metadata": {},
   "source": [
    "# jieba库"
   ]
  },
  {
   "cell_type": "code",
   "execution_count": 1,
   "metadata": {},
   "outputs": [
    {
     "name": "stderr",
     "output_type": "stream",
     "text": [
      "Building prefix dict from the default dictionary ...\n",
      "Loading model from cache /tmp/jieba.cache\n",
      "Loading model cost 0.875 seconds.\n",
      "Prefix dict has been built successfully.\n"
     ]
    },
    {
     "name": "stdout",
     "output_type": "stream",
     "text": [
      "罗毅夫\n",
      "硕士\n",
      "毕业\n",
      "于\n",
      "湖南大学\n",
      "信科院\n"
     ]
    }
   ],
   "source": [
    "import jieba\n",
    "s = '罗毅夫硕士毕业于湖南大学信科院'\n",
    "\n",
    "for i in jieba.cut(s):\n",
    "    print(i)"
   ]
  },
  {
   "cell_type": "code",
   "execution_count": 2,
   "metadata": {},
   "outputs": [
    {
     "name": "stdout",
     "output_type": "stream",
     "text": [
      "罗\n",
      "毅\n",
      "夫\n",
      "硕士\n",
      "毕业\n",
      "于\n",
      "湖南\n",
      "湖南大学\n",
      "南大\n",
      "大学\n",
      "信\n",
      "科\n",
      "院\n"
     ]
    }
   ],
   "source": [
    "import jieba\n",
    "s = '罗毅夫硕士毕业于湖南大学信科院'\n",
    "\n",
    "for i in jieba.cut(s,cut_all=True):\n",
    "    print(i)"
   ]
  },
  {
   "cell_type": "code",
   "execution_count": 4,
   "metadata": {},
   "outputs": [
    {
     "data": {
      "text/plain": [
       "['罗毅夫', '硕士', '毕业', '于', '湖南大学', '信科院']"
      ]
     },
     "execution_count": 4,
     "metadata": {},
     "output_type": "execute_result"
    }
   ],
   "source": [
    "jieba.lcut(s)"
   ]
  },
  {
   "cell_type": "code",
   "execution_count": 5,
   "metadata": {},
   "outputs": [
    {
     "data": {
      "text/plain": [
       "['罗', '毅', '夫', '硕士', '毕业', '于', '湖南', '湖南大学', '南大', '大学', '信', '科', '院']"
      ]
     },
     "execution_count": 5,
     "metadata": {},
     "output_type": "execute_result"
    }
   ],
   "source": [
    "jieba.lcut(s,cut_all=True)"
   ]
  },
  {
   "cell_type": "code",
   "execution_count": 8,
   "metadata": {},
   "outputs": [
    {
     "name": "stdout",
     "output_type": "stream",
     "text": [
      "罗毅夫\n",
      "硕士\n",
      "毕业\n",
      "于\n",
      "湖南\n",
      "南大\n",
      "大学\n",
      "湖南大学\n",
      "信科院\n"
     ]
    }
   ],
   "source": [
    "import jieba\n",
    "s = '罗毅夫硕士毕业于湖南大学信科院'\n",
    "\n",
    "for i in jieba.cut_for_search(s):\n",
    "    print(i)\n"
   ]
  },
  {
   "cell_type": "code",
   "execution_count": 28,
   "metadata": {},
   "outputs": [
    {
     "name": "stdout",
     "output_type": "stream",
     "text": [
      "罗毅夫/本科毕业/于/HUFE/硕士/研究生/毕业/于/湖南大学/信科院/也/是/研究/算法/的/专家\n"
     ]
    }
   ],
   "source": [
    "import jieba\n",
    "s = \"罗毅夫本科毕业于HUFE硕士研究生毕业于湖南大学信科院也是研究算法的专家\"\n",
    "t = jieba.cut(s)\n",
    "print('/'.join(t))"
   ]
  },
  {
   "cell_type": "code",
   "execution_count": 29,
   "metadata": {},
   "outputs": [
    {
     "name": "stdout",
     "output_type": "stream",
     "text": [
      "罗毅夫/本科毕业/于/HUFE/硕士/研究生/毕业/于/湖南大学/信科院/也/是/研究/算法/的/专家\n"
     ]
    }
   ],
   "source": [
    "jieba.add_word('罗毅夫')\n",
    "jieba.add_word('计科系')\n",
    "jieba.add_word('算法')\n",
    "t = jieba.cut(s)\n",
    "print('/'.join(t))"
   ]
  },
  {
   "cell_type": "code",
   "execution_count": 32,
   "metadata": {},
   "outputs": [
    {
     "name": "stdout",
     "output_type": "stream",
     "text": [
      "罗毅夫/本科毕业/于/HUFE/硕士/研究生/毕业/于/湖南大学/信科院/也/是/研究/算法/的/专家\n"
     ]
    }
   ],
   "source": [
    "jieba.load_userdict(\"./file/userdict.txt\")\n",
    "t = jieba.cut(s)\n",
    "print('/'.join(t))"
   ]
  },
  {
   "cell_type": "code",
   "execution_count": 33,
   "metadata": {},
   "outputs": [
    {
     "name": "stdout",
     "output_type": "stream",
     "text": [
      "我/r    和/c    女朋友/n    一起/m    去/v    湖大/ns    岳麓书院/nt    玩/v    "
     ]
    }
   ],
   "source": [
    "import jieba.posseg as psg\n",
    "text = \"我和女朋友一起去湖大岳麓书院玩\"\n",
    "seg = psg.cut(text)\n",
    "for ele in seg:\n",
    "    print(ele,end='    ')"
   ]
  },
  {
   "cell_type": "code",
   "execution_count": 35,
   "metadata": {},
   "outputs": [
    {
     "data": {
      "text/plain": [
       "['长沙', '橘子洲', '湘江', '松雅湖']"
      ]
     },
     "execution_count": 35,
     "metadata": {},
     "output_type": "execute_result"
    }
   ],
   "source": [
    "from jieba import analyse\n",
    "\n",
    "text = \"长沙可以玩的地方有很多，可以去岳麓书院感受古人读书的氛围，可以去橘子洲头吹吹风看看湘江，也可以去松雅湖湿地公园带孩子随便逛逛，and more\"\n",
    "\n",
    "seg = psg.cut(text)\n",
    "type(seg)\n",
    "lst = [x.word for x in seg if x.flag == 'ns']\n",
    "lst"
   ]
  },
  {
   "cell_type": "code",
   "execution_count": 37,
   "metadata": {},
   "outputs": [
    {
     "name": "stdout",
     "output_type": "stream",
     "text": [
      "keywords by tfidf:\n",
      "可以    weight:0.61\n",
      "橘子洲   weight:0.56\n",
      "松雅湖   weight:0.52\n",
      "more  weight:0.52\n",
      "岳麓书院  weight:0.50\n",
      "吹风    weight:0.44\n",
      "逛逛    weight:0.41\n",
      "湿地    weight:0.41\n",
      "湘江    weight:0.39\n",
      "氛围    weight:0.34\n"
     ]
    }
   ],
   "source": [
    "from jieba import analyse\n",
    "\n",
    "text = '''长沙可以玩的地方有很多，可以去岳麓书院感受古人读书的氛围，可以去橘子洲头吹吹风看看湘江，也可以去松雅湖湿地公园带孩子随便逛逛，and more'''\n",
    "\n",
    "keywords = analyse.extract_tags(text,topK = 10,withWeight = True)\n",
    "print(\"keywords by tfidf:\")\n",
    "\n",
    "for keyword in keywords:\n",
    "    print(\"{:<5} weight:{:4.2f}\".format(keyword[0],keyword[1]))"
   ]
  },
  {
   "cell_type": "code",
   "execution_count": 39,
   "metadata": {},
   "outputs": [
    {
     "name": "stdout",
     "output_type": "stream",
     "text": [
      "{'A': 74, 'B': 16, 'C': 69, 'D': 29, 'E': 28, 'F': 87, 'G': 43, 'H': 18, 'I': 57, 'J': 97, 'K': 23, 'L': 74, 'M': 56, 'N': 87, 'O': 72, 'P': 30, 'Q': 40, 'R': 87, 'S': 39, 'T': 63, 'U': 67, 'V': 39, 'W': 67, 'X': 75, 'Y': 39, 'Z': 16}\n",
      "结束\n"
     ]
    }
   ],
   "source": [
    "import wordcloud\n",
    "import random\n",
    "import string\n",
    "lstChar = [x for x in string.ascii_uppercase]\n",
    "\n",
    "lstfreq = [random.randint(1,100) for i in range(26)]\n",
    "\n",
    "freq = {x[0]:x[1] for x in zip(lstChar,lstfreq)}\n",
    "print(freq)\n",
    "\n",
    "wcloud = wordcloud.WordCloud(\n",
    "    background_color = \"white\",width=1000,\n",
    "    max_words = 50,\n",
    "    height = 860,margin = 1).fit_words(freq)\n",
    "wcloud.to_file(\"rescloud.png\")\n",
    "print('结束')"
   ]
  },
  {
   "cell_type": "code",
   "execution_count": null,
   "metadata": {},
   "outputs": [],
   "source": [
    "import wordcloud\n",
    "import jieba\n",
    "\n",
    "with open(r'/usr/coding/python_code/classwork/中共中央 国务院关于实施乡村振兴战略的意见.txt', 'r', encoding='utf-8') as file:\n",
    "    data = file.read()\n",
    "\n",
    "txt = ' '.join(data)\n",
    "word = wordcloud.WordCloud(font_path = \"msyh.ttc\",background_color=\"white\",stopwords = {'的','和'})\n",
    "word.generate(txt)\n",
    "word.to_file(\"33罗毅夫.png\")"
   ]
  }
 ],
 "metadata": {
  "interpreter": {
   "hash": "916dbcbb3f70747c44a77c7bcd40155683ae19c65e1c03b4aa3499c5328201f1"
  },
  "kernelspec": {
   "display_name": "Python 3.6.8 64-bit",
   "language": "python",
   "name": "python3"
  },
  "language_info": {
   "codemirror_mode": {
    "name": "ipython",
    "version": 3
   },
   "file_extension": ".py",
   "mimetype": "text/x-python",
   "name": "python",
   "nbconvert_exporter": "python",
   "pygments_lexer": "ipython3",
   "version": "3.6.8"
  },
  "orig_nbformat": 4
 },
 "nbformat": 4,
 "nbformat_minor": 2
}
