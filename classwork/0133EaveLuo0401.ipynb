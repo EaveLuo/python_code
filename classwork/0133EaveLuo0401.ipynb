{
 "cells": [
  {
   "cell_type": "markdown",
   "metadata": {},
   "source": [
    "# 202108210133罗毅夫"
   ]
  },
  {
   "cell_type": "markdown",
   "metadata": {},
   "source": [
    "# 1.列表\n",
    "## 元素可以是任意的数据类型"
   ]
  },
  {
   "cell_type": "markdown",
   "metadata": {},
   "source": [
    "### 1.1列表创建与访问"
   ]
  },
  {
   "cell_type": "code",
   "execution_count": 10,
   "metadata": {},
   "outputs": [
    {
     "name": "stdout",
     "output_type": "stream",
     "text": [
      "a\n",
      "a\n"
     ]
    }
   ],
   "source": [
    "l = [1,2,'E','a','b','c','d']\n",
    "print(l[3])\n",
    "b = [l,1,2,3,4,5,6,7,8,9]\n",
    "print(b[0][3])"
   ]
  },
  {
   "cell_type": "code",
   "execution_count": 16,
   "metadata": {},
   "outputs": [
    {
     "name": "stdout",
     "output_type": "stream",
     "text": [
      "1\n",
      "changsha\n"
     ]
    }
   ],
   "source": [
    "list1 = [1, 2, 3, 4, 5, 6,'changsha']\n",
    "print(list1[0])\n",
    "print(list1[len(list1)-1])"
   ]
  },
  {
   "cell_type": "code",
   "execution_count": 18,
   "metadata": {},
   "outputs": [
    {
     "name": "stdout",
     "output_type": "stream",
     "text": [
      "1 2 3 4 5 6 changsha\n",
      "1 2 3 4 5 6 changsha\n"
     ]
    }
   ],
   "source": [
    "list1 = [1, 2, 3, 4, 5, 6,'changsha']\n",
    "a,b,c,d,e,f,g = list1\n",
    "print(a,b,c,d,e,f,g)\n",
    "a,*b,c = list1\n",
    "print(a,*b,c)"
   ]
  },
  {
   "cell_type": "markdown",
   "metadata": {},
   "source": [
    "### 1.2列表的更新与删除"
   ]
  },
  {
   "cell_type": "code",
   "execution_count": 45,
   "metadata": {},
   "outputs": [
    {
     "name": "stdout",
     "output_type": "stream",
     "text": [
      "[1, 2, 3, 4, 5, 6, 7, 8, 9]\n",
      "[1, 2, 3, 4, 5, 6, 7, 8, 9, 10]\n",
      "[0, 1, 2, 3, 4, 5, 6, 7, 8, 9, 10]\n",
      "[1, 2, 3, 4, 5, 6, 7, 8, 9, 10]\n",
      "[1, 2, 3, 4, 5, 6, 7, 8, 9]\n",
      "[1, 2, 3, 4, 5, 6, 7, 8, 9, 2, 3, 4, 5, 6, 7, 8, 9, 10]\n",
      "[1, 2, 3, 4, 5, 6, 7, 8, 9, 1, 2, 3, 4, 5, 6, 7, 8, 9]\n",
      "[3, 4, 5, 6, 7, 8, 9, 10]\n",
      "[10, 9, 8, 7, 6, 5, 4, 3]\n",
      "[1, 2, 3, 4, 5, 6, 7, 8, 9, 10, 9, 8, 7, 6, 5, 4, 3]\n",
      "[]\n"
     ]
    }
   ],
   "source": [
    "list2 = [1,2,3,4,5,6,7,8,9]\n",
    "print(list2)\n",
    "list2.append(10)\n",
    "print(list2)\n",
    "list2.insert(0,0)\n",
    "print(list2)\n",
    "list2.pop(0)\n",
    "print(list2)\n",
    "list2.pop()\n",
    "print(list2)\n",
    "\n",
    "list3 = [2,3,4,5,6,7,8,9,10]\n",
    "print(list2+list3)\n",
    "print(list2*2)\n",
    "\n",
    "list3.remove(2)\n",
    "print(list3)\n",
    "list3.reverse()\n",
    "print(list3)\n",
    "list2.extend(list3)\n",
    "print(list2)\n",
    "list2.clear()\n",
    "print(list2)"
   ]
  },
  {
   "cell_type": "markdown",
   "metadata": {},
   "source": [
    "# 2.元祖\n",
    "## 元祖用小括号，一旦创建无法修改，数据类型也是任意的"
   ]
  },
  {
   "cell_type": "code",
   "execution_count": 60,
   "metadata": {},
   "outputs": [
    {
     "name": "stdout",
     "output_type": "stream",
     "text": [
      "(1, 2, 3, 4, 5, 6, 'EaveLuo')\n",
      "EaveLuo\n"
     ]
    }
   ],
   "source": [
    "tuple1 = (1,2,3,4,5,6,'EaveLuo')\n",
    "print(tuple1)\n",
    "print(tuple1[-1])"
   ]
  },
  {
   "cell_type": "markdown",
   "metadata": {},
   "source": [
    "# 3.字典\n",
    "## 与js的对象类似，用key-value键值对方式存储 "
   ]
  },
  {
   "cell_type": "markdown",
   "metadata": {},
   "source": [
    "## 3.1字典的创建与访问"
   ]
  },
  {
   "cell_type": "code",
   "execution_count": 126,
   "metadata": {},
   "outputs": [
    {
     "name": "stdout",
     "output_type": "stream",
     "text": [
      "202108210133\n",
      "EaveLuo\n",
      "Error Key\n",
      "91\n",
      "dict_keys(['id', 'name', 'age', 'height', 'grade'])\n",
      "dict_values(['202108210133', 'EaveLuo', 23, 1.76, [90, 80, 78, 91, 92]])\n"
     ]
    }
   ],
   "source": [
    "dict1 = {\n",
    "    'id': '202108210133',\n",
    "    'name': 'EaveLuo',\n",
    "    'age': 23,\n",
    "    'height': 1.76,\n",
    "    'grade': [90,80,78,91,92]\n",
    "}\n",
    "\n",
    "print(dict1['id'])\n",
    "print(dict1.get('name'))\n",
    "print(dict1.get('name1','Error Key'))\n",
    "print(dict1.get('grade')[3])\n",
    "print(dict1.keys())\n",
    "print(dict1.values())"
   ]
  },
  {
   "cell_type": "markdown",
   "metadata": {},
   "source": [
    "## 3.2字典的更新与删除"
   ]
  },
  {
   "cell_type": "code",
   "execution_count": 123,
   "metadata": {},
   "outputs": [
    {
     "name": "stdout",
     "output_type": "stream",
     "text": [
      "EaveLuo\n",
      "luoyifu\n",
      "{'id': '202108210133', 'name': 'luoyifu', 'age': 23, 'grade': [90, 80, 78, 91, 92]}\n",
      "{'name': 'luoyifu', 'age': 23, 'grade': [90, 80, 78, 91, 92]}\n",
      "{}\n"
     ]
    }
   ],
   "source": [
    "dict2 = {\n",
    "    'id': '202108210133',\n",
    "    'name': 'EaveLuo',\n",
    "    'age': 23,\n",
    "    'height': 1.76,\n",
    "    'grade': [90,80,78,91,92]\n",
    "}\n",
    "\n",
    "print(dict2['name'])\n",
    "\n",
    "dict2['name'] = 'luoyifu'\n",
    "print(dict2['name'])\n",
    "\n",
    "dict2.pop('height')\n",
    "print(dict2)\n",
    "\n",
    "del dict2['id']\n",
    "print(dict2)\n",
    "\n",
    "dict2.clear()\n",
    "print(dict2)"
   ]
  },
  {
   "cell_type": "markdown",
   "metadata": {},
   "source": [
    "# practice：统计英文句子'I love learning Python'中字符出现的次数"
   ]
  },
  {
   "cell_type": "code",
   "execution_count": 31,
   "metadata": {},
   "outputs": [
    {
     "name": "stdout",
     "output_type": "stream",
     "text": [
      "a : 1\n",
      "b : 0\n",
      "c : 0\n",
      "d : 0\n",
      "e : 2\n",
      "f : 0\n",
      "g : 1\n",
      "h : 1\n",
      "i : 1\n",
      "j : 0\n",
      "k : 0\n",
      "l : 2\n",
      "m : 0\n",
      "n : 3\n",
      "o : 2\n",
      "p : 0\n",
      "q : 0\n",
      "r : 1\n",
      "s : 0\n",
      "t : 1\n",
      "u : 0\n",
      "v : 1\n",
      "w : 0\n",
      "x : 0\n",
      "y : 1\n",
      "z : 0\n"
     ]
    }
   ],
   "source": [
    "str = {'sentence':'I love learning Python'}\n",
    "for i in range(97,123):\n",
    "    print(chr(i),':',str.get('sentence').count(chr(i)))"
   ]
  },
  {
   "cell_type": "code",
   "execution_count": 34,
   "metadata": {},
   "outputs": [
    {
     "name": "stdout",
     "output_type": "stream",
     "text": [
      "{'I': 1, ' ': 3, 'l': 2, 'o': 2, 'v': 1, 'e': 2, 'a': 1, 'r': 1, 'n': 3, 'i': 1, 'g': 1, 'P': 1, 'y': 1, 't': 1, 'h': 1}\n"
     ]
    }
   ],
   "source": [
    "str2 = 'I love learning Python'\n",
    "countStr = {}\n",
    "for i in str2:\n",
    "    countStr[i] =str2.count(i)\n",
    "print(countStr)"
   ]
  }
 ],
 "metadata": {
  "interpreter": {
   "hash": "916dbcbb3f70747c44a77c7bcd40155683ae19c65e1c03b4aa3499c5328201f1"
  },
  "kernelspec": {
   "display_name": "Python 3.6.8 64-bit",
   "language": "python",
   "name": "python3"
  },
  "language_info": {
   "codemirror_mode": {
    "name": "ipython",
    "version": 3
   },
   "file_extension": ".py",
   "mimetype": "text/x-python",
   "name": "python",
   "nbconvert_exporter": "python",
   "pygments_lexer": "ipython3",
   "version": "3.6.8"
  },
  "orig_nbformat": 4
 },
 "nbformat": 4,
 "nbformat_minor": 2
}
