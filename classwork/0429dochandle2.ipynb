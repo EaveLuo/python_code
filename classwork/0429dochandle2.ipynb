{
 "cells": [
  {
   "cell_type": "markdown",
   "metadata": {},
   "source": [
    "# 202108210133 罗毅夫"
   ]
  },
  {
   "cell_type": "markdown",
   "metadata": {},
   "source": [
    "## 中文文本分析实例《红楼梦》"
   ]
  },
  {
   "cell_type": "code",
   "execution_count": 7,
   "metadata": {},
   "outputs": [],
   "source": [
    "# read load the book\n",
    "def getText(filepath):\n",
    "    f = open(filepath, 'r',encoding='utf8')\n",
    "    text = f.read()\n",
    "    f.close()\n",
    "    return text\n",
    "\n",
    "def stopwordslist(filepath):\n",
    "    stopwords = [line.strip() for line in open(filepath,'r',encoding='utf-8').readlines()]\n",
    "    return stopwords"
   ]
  },
  {
   "cell_type": "code",
   "execution_count": 14,
   "metadata": {},
   "outputs": [],
   "source": [
    "# 分析词频\n",
    "import jieba\n",
    "def wordFreq(filepath,text,topn):\n",
    "    words = jieba.lcut(text.strip())\n",
    "    counts = {}\n",
    "    stopwords = stopwordslist('./file/stop_words.txt')\n",
    "    for word in words:\n",
    "        if len(word) == 1:\n",
    "            continue\n",
    "        elif word not in stopwords:\n",
    "            if word == '凤姐儿':\n",
    "                word = '凤姐'\n",
    "            elif word == '林黛玉' or word == '林妹妹' or word == '黛玉笑':\n",
    "                word = '黛玉'\n",
    "            elif word == '宝二爷':\n",
    "                word = '宝玉'\n",
    "            elif word == '袭人道':\n",
    "                word = '袭人'\n",
    "            counts[word] = counts.get(word,0) + 1\n",
    "    items = list(counts.items())\n",
    "    items.sort(key=lambda x:x[1],reverse=True)\n",
    "    f = open(filepath[:-4]+'_词频.txt','w')\n",
    "    for i in range(topn):\n",
    "        word,count = items[i]\n",
    "        f.writelines(\"{}\\t{}\\n\".format(word,count))\n",
    "    f.close()"
   ]
  },
  {
   "cell_type": "code",
   "execution_count": 17,
   "metadata": {},
   "outputs": [],
   "source": [
    "text = getText('./file/红楼梦.txt')\n",
    "wordFreq('./file/红楼梦.txt',text,50)"
   ]
  },
  {
   "cell_type": "markdown",
   "metadata": {},
   "source": [
    "## 制作词云"
   ]
  },
  {
   "cell_type": "code",
   "execution_count": 1,
   "metadata": {},
   "outputs": [],
   "source": [
    "import wordcloud\n",
    "import matplotlib.pyplot as plt\n",
    "bg_pic = plt.imread('./file/star.jpg')\n",
    "f = open('./file/红楼梦_词频.txt','r')\n",
    "text = f.read()\n",
    "wcloud = wordcloud.WordCloud(font_path = r'/usr/share/fonts/simkai.ttf', background_color = 'white' ,width = 1000 ,max_words = 500 ,mask = bg_pic,height = 860 ,margin = 2).generate(text)\n",
    "\n",
    "wcloud.to_file('./file/红楼梦词云.png')\n",
    "f.close()"
   ]
  },
  {
   "cell_type": "code",
   "execution_count": null,
   "metadata": {},
   "outputs": [],
   "source": []
  }
 ],
 "metadata": {
  "interpreter": {
   "hash": "916dbcbb3f70747c44a77c7bcd40155683ae19c65e1c03b4aa3499c5328201f1"
  },
  "kernelspec": {
   "display_name": "Python 3.6.8 64-bit",
   "language": "python",
   "name": "python3"
  },
  "language_info": {
   "codemirror_mode": {
    "name": "ipython",
    "version": 3
   },
   "file_extension": ".py",
   "mimetype": "text/x-python",
   "name": "python",
   "nbconvert_exporter": "python",
   "pygments_lexer": "ipython3",
   "version": "3.6.8"
  },
  "orig_nbformat": 4
 },
 "nbformat": 4,
 "nbformat_minor": 2
}
